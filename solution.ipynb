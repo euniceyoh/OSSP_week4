{
  "nbformat": 4,
  "nbformat_minor": 0,
  "metadata": {
    "colab": {
      "provenance": []
    },
    "kernelspec": {
      "name": "python3",
      "display_name": "Python 3"
    },
    "language_info": {
      "name": "python"
    }
  },
  "cells": [
    {
      "cell_type": "markdown",
      "source": [
        "## Task \n",
        "- Complete **rotateString** function following the description below\n",
        "\n",
        "### Rotate String\n",
        "Given two strings **s** and **goal**, return **true** *if and only if* **s** can become **goal** after some number of shifts on **s**.\n",
        "\n",
        "A shift on **s** consists of moving the leftmost character of **s** to the rightmost position.\n",
        "\n",
        "- For example, if **s = \"abcde\"**, then it will be **\"bcdea\"** after one shift."
      ],
      "metadata": {
        "id": "TV3Socqg8BVl"
      }
    },
    {
      "cell_type": "code",
      "execution_count": 15,
      "metadata": {
        "id": "5FcxitVf5kdQ"
      },
      "outputs": [],
      "source": [
        "def rotateString(s, goal):\n",
        "  # check if same length --> else return false \n",
        "  if len(s) != len(goal): \n",
        "    return False\n",
        "  firstCharOfS = s[0]\n",
        "  lenOfS = len(s)\n",
        "  lenOfGoal = len(goal)\n",
        "  \n",
        "  for i in range(0, lenOfGoal):\n",
        "    if firstCharOfS == goal[i]:\n",
        "      match = True\n",
        "      for j in range(0, lenOfS): \n",
        "        if goal[(i+j) % lenOfS] != s[j]:\n",
        "          match = False\n",
        "          break # break out of inner for loop \n",
        "        # else continue \n",
        "      if(match):\n",
        "        return match\n",
        "      # else continue with iterating goal \n",
        "  \n",
        "  return False\n",
        "\n",
        "  # iterate goal \n",
        "  # for each char match, iterate entire string of s \n",
        "  # if at some point, chars do not match, break\n",
        "  # if we are at end of s, return true \n",
        "  # return false "
      ]
    },
    {
      "cell_type": "markdown",
      "source": [],
      "metadata": {
        "id": "gHAZkhZuyycq"
      }
    },
    {
      "cell_type": "code",
      "source": [
        "'''\n",
        "Testcase 1. \n",
        "Input: s = \"abcde\", goal = \"cdeab\"\n",
        "Output: True\n",
        "'''\n",
        "rotateString(\"abcde\", \"cdeab\")"
      ],
      "metadata": {
        "id": "iGtv8pRU59yu",
        "colab": {
          "base_uri": "https://localhost:8080/"
        },
        "outputId": "7b41e886-afea-4af3-fd86-082aaf84b004"
      },
      "execution_count": 16,
      "outputs": [
        {
          "output_type": "stream",
          "name": "stdout",
          "text": [
            "a\n",
            "cont\n",
            "cont\n",
            "cont\n",
            "cont\n",
            "cont\n"
          ]
        },
        {
          "output_type": "execute_result",
          "data": {
            "text/plain": [
              "True"
            ]
          },
          "metadata": {},
          "execution_count": 16
        }
      ]
    },
    {
      "cell_type": "code",
      "source": [
        "'''\n",
        "Testcase 2. \n",
        "Input: s = \"abcde\", goal = \"abced\"\n",
        "Output: False\n",
        "'''\n",
        "rotateString(\"abcde\", \"abced\")"
      ],
      "metadata": {
        "id": "c_igv9cg6Jb0",
        "colab": {
          "base_uri": "https://localhost:8080/"
        },
        "outputId": "740bf246-a253-47d5-f979-944aefa6bbce"
      },
      "execution_count": 10,
      "outputs": [
        {
          "output_type": "stream",
          "name": "stdout",
          "text": [
            "a\n"
          ]
        },
        {
          "output_type": "execute_result",
          "data": {
            "text/plain": [
              "False"
            ]
          },
          "metadata": {},
          "execution_count": 10
        }
      ]
    },
    {
      "cell_type": "code",
      "source": [
        "'''\n",
        "Testcase 3. \n",
        "Input: s = \"abcde\", goal = \"abcde\"\n",
        "Output: True\n",
        "'''\n",
        "rotateString(\"abcde\", \"abcde\")"
      ],
      "metadata": {
        "id": "gzATcpEZ6P67",
        "colab": {
          "base_uri": "https://localhost:8080/"
        },
        "outputId": "3baaca3b-543b-4aff-efec-9b0ecb3fa973"
      },
      "execution_count": 11,
      "outputs": [
        {
          "output_type": "stream",
          "name": "stdout",
          "text": [
            "a\n"
          ]
        },
        {
          "output_type": "execute_result",
          "data": {
            "text/plain": [
              "True"
            ]
          },
          "metadata": {},
          "execution_count": 11
        }
      ]
    },
    {
      "cell_type": "code",
      "source": [
        "'''\n",
        "Testcase 4. \n",
        "Input: s = \"abace\", goal = \"aceab\"\n",
        "Output: True\n",
        "'''\n",
        "rotateString(\"abace\", \"aceab\")"
      ],
      "metadata": {
        "colab": {
          "base_uri": "https://localhost:8080/"
        },
        "id": "Fbi9urK-0US0",
        "outputId": "1d88fc9a-2fcc-43d0-a75d-a89caf2f4f0c"
      },
      "execution_count": 12,
      "outputs": [
        {
          "output_type": "stream",
          "name": "stdout",
          "text": [
            "a\n"
          ]
        },
        {
          "output_type": "execute_result",
          "data": {
            "text/plain": [
              "True"
            ]
          },
          "metadata": {},
          "execution_count": 12
        }
      ]
    },
    {
      "cell_type": "code",
      "source": [
        "'''\n",
        "Testcase 5. \n",
        "Input: s = \"ab\", goal = \"aaaaa\"\n",
        "Output: False\n",
        "'''\n",
        "rotateString(\"ab\", \"aaaaa\")"
      ],
      "metadata": {
        "colab": {
          "base_uri": "https://localhost:8080/"
        },
        "id": "wmBD1lT40o9U",
        "outputId": "c6f745fa-d6e6-4b03-fb3a-5aab31fdcc7b"
      },
      "execution_count": 13,
      "outputs": [
        {
          "output_type": "execute_result",
          "data": {
            "text/plain": [
              "False"
            ]
          },
          "metadata": {},
          "execution_count": 13
        }
      ]
    },
    {
      "cell_type": "code",
      "source": [
        "'''\n",
        "Testcase 6\n",
        "Input: s = \"abaaa\", goal = \"aaaaa\"\n",
        "Output: False\n",
        "'''\n",
        "rotateString(\"abaaa\", \"aaaaa\")"
      ],
      "metadata": {
        "colab": {
          "base_uri": "https://localhost:8080/"
        },
        "id": "W2Gvl3eF0ox-",
        "outputId": "9f1510e4-3841-4a8d-dd9a-0b4f97a1822e"
      },
      "execution_count": 14,
      "outputs": [
        {
          "output_type": "stream",
          "name": "stdout",
          "text": [
            "a\n"
          ]
        },
        {
          "output_type": "execute_result",
          "data": {
            "text/plain": [
              "False"
            ]
          },
          "metadata": {},
          "execution_count": 14
        }
      ]
    },
    {
      "cell_type": "code",
      "source": [
        "'''\n",
        "Testcase 7\n",
        "Input: s = \"abcde\", goal = \"eabcd\"\n",
        "Output: True\n",
        "'''\n",
        "rotateString(\"abcde\", \"eabcd\")"
      ],
      "metadata": {
        "colab": {
          "base_uri": "https://localhost:8080/"
        },
        "id": "UncKPhbJ1HOa",
        "outputId": "cf32d599-29ad-4445-c86d-c41532682a78"
      },
      "execution_count": 17,
      "outputs": [
        {
          "output_type": "stream",
          "name": "stdout",
          "text": [
            "a\n",
            "cont\n",
            "cont\n",
            "cont\n",
            "cont\n",
            "cont\n"
          ]
        },
        {
          "output_type": "execute_result",
          "data": {
            "text/plain": [
              "True"
            ]
          },
          "metadata": {},
          "execution_count": 17
        }
      ]
    },
    {
      "cell_type": "code",
      "source": [
        "'''\n",
        "Testcase 8\n",
        "Input: s = \"bbcde\", goal = \"ebbdc\"\n",
        "Output: False\n",
        "'''\n",
        "rotateString(\"bbcde\", \"ebbdc\")"
      ],
      "metadata": {
        "colab": {
          "base_uri": "https://localhost:8080/"
        },
        "id": "xiIW3Yd81PiQ",
        "outputId": "47212b71-529c-4a4e-8e17-73ac8d36ac8d"
      },
      "execution_count": 20,
      "outputs": [
        {
          "output_type": "stream",
          "name": "stdout",
          "text": [
            "b\n",
            "cont\n",
            "cont\n",
            "cont\n"
          ]
        },
        {
          "output_type": "execute_result",
          "data": {
            "text/plain": [
              "False"
            ]
          },
          "metadata": {},
          "execution_count": 20
        }
      ]
    }
  ]
}