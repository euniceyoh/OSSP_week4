{
  "nbformat": 4,
  "nbformat_minor": 0,
  "metadata": {
    "colab": {
      "provenance": []
    },
    "kernelspec": {
      "name": "python3",
      "display_name": "Python 3"
    },
    "language_info": {
      "name": "python"
    }
  },
  "cells": [
    {
      "cell_type": "markdown",
      "source": [
        "## Task \n",
        "- Complete **rotateString** function following the description below\n",
        "\n",
        "### Rotate String\n",
        "Given two strings **s** and **goal**, return **true** *if and only if* **s** can become **goal** after some number of shifts on **s**.\n",
        "\n",
        "A shift on **s** consists of moving the leftmost character of **s** to the rightmost position.\n",
        "\n",
        "- For example, if **s = \"abcde\"**, then it will be **\"bcdea\"** after one shift."
      ],
      "metadata": {
        "id": "TV3Socqg8BVl"
      }
    },
    {
      "cell_type": "code",
      "execution_count": 23,
      "metadata": {
        "id": "5FcxitVf5kdQ"
      },
      "outputs": [],
      "source": [
        "def rotateString(s, goal):\n",
        "  # check if same length --> else return false \n",
        "  if len(s) != len(goal): \n",
        "    return False\n",
        "  firstCharOfS = s[0]\n",
        "  lenOfS = len(s)\n",
        "  lenOfGoal = len(goal)\n",
        "  \n",
        "  for i in range(0, lenOfGoal):\n",
        "    if firstCharOfS == goal[i]:\n",
        "      match = True\n",
        "      for j in range(0, lenOfS): \n",
        "        if goal[(i+j) % lenOfS] != s[j]:\n",
        "          match = False\n",
        "          break # break out of inner for loop \n",
        "        # else continue \n",
        "      if(match):\n",
        "        return match\n",
        "      # else continue with iterating goal \n",
        "  \n",
        "  return False\n",
        "\n",
        "  # iterate goal \n",
        "  # for each char match, iterate entire string of s \n",
        "  # if at some point, chars do not match, break\n",
        "  # if we are at end of s, return true \n",
        "  # return false "
      ]
    },
    {
      "cell_type": "markdown",
      "source": [],
      "metadata": {
        "id": "gHAZkhZuyycq"
      }
    },
    {
      "cell_type": "code",
      "source": [
        "'''\n",
        "Testcase 1. \n",
        "Input: s = \"abcde\", goal = \"cdeab\"\n",
        "Output: True\n",
        "'''\n",
        "rotateString(\"abcde\", \"cdeab\")"
      ],
      "metadata": {
        "id": "iGtv8pRU59yu",
        "colab": {
          "base_uri": "https://localhost:8080/"
        },
        "outputId": "fd9d1a0a-a963-4b20-a845-bf3ad6d5df8d"
      },
      "execution_count": 24,
      "outputs": [
        {
          "output_type": "execute_result",
          "data": {
            "text/plain": [
              "True"
            ]
          },
          "metadata": {},
          "execution_count": 24
        }
      ]
    },
    {
      "cell_type": "code",
      "source": [
        "'''\n",
        "Testcase 2. \n",
        "Input: s = \"abcde\", goal = \"abced\"\n",
        "Output: False\n",
        "'''\n",
        "rotateString(\"abcde\", \"abced\")"
      ],
      "metadata": {
        "id": "c_igv9cg6Jb0",
        "colab": {
          "base_uri": "https://localhost:8080/"
        },
        "outputId": "64c09941-0121-4b50-fcc8-4f6bd1b1a95c"
      },
      "execution_count": 25,
      "outputs": [
        {
          "output_type": "execute_result",
          "data": {
            "text/plain": [
              "False"
            ]
          },
          "metadata": {},
          "execution_count": 25
        }
      ]
    },
    {
      "cell_type": "code",
      "source": [
        "'''\n",
        "Testcase 3. \n",
        "Input: s = \"abcde\", goal = \"abcde\"\n",
        "Output: True\n",
        "'''\n",
        "rotateString(\"abcde\", \"abcde\")"
      ],
      "metadata": {
        "id": "gzATcpEZ6P67",
        "colab": {
          "base_uri": "https://localhost:8080/"
        },
        "outputId": "c01b1e38-0618-4575-8154-a48bd7e44132"
      },
      "execution_count": 26,
      "outputs": [
        {
          "output_type": "execute_result",
          "data": {
            "text/plain": [
              "True"
            ]
          },
          "metadata": {},
          "execution_count": 26
        }
      ]
    },
    {
      "cell_type": "code",
      "source": [
        "'''\n",
        "Testcase 4. \n",
        "Input: s = \"abace\", goal = \"aceab\"\n",
        "Output: True\n",
        "'''\n",
        "rotateString(\"abace\", \"aceab\")"
      ],
      "metadata": {
        "colab": {
          "base_uri": "https://localhost:8080/"
        },
        "id": "Fbi9urK-0US0",
        "outputId": "1f4ef5ce-c46c-44eb-aadd-25dc13e7e51a"
      },
      "execution_count": 27,
      "outputs": [
        {
          "output_type": "execute_result",
          "data": {
            "text/plain": [
              "True"
            ]
          },
          "metadata": {},
          "execution_count": 27
        }
      ]
    },
    {
      "cell_type": "code",
      "source": [
        "'''\n",
        "Testcase 5. \n",
        "Input: s = \"ab\", goal = \"aaaaa\"\n",
        "Output: False\n",
        "'''\n",
        "rotateString(\"ab\", \"aaaaa\")"
      ],
      "metadata": {
        "colab": {
          "base_uri": "https://localhost:8080/"
        },
        "id": "wmBD1lT40o9U",
        "outputId": "2794fac5-1368-4398-af1e-4bee51e31f05"
      },
      "execution_count": 28,
      "outputs": [
        {
          "output_type": "execute_result",
          "data": {
            "text/plain": [
              "False"
            ]
          },
          "metadata": {},
          "execution_count": 28
        }
      ]
    },
    {
      "cell_type": "code",
      "source": [
        "'''\n",
        "Testcase 6\n",
        "Input: s = \"abaaa\", goal = \"aaaaa\"\n",
        "Output: False\n",
        "'''\n",
        "rotateString(\"abaaa\", \"aaaaa\")"
      ],
      "metadata": {
        "colab": {
          "base_uri": "https://localhost:8080/"
        },
        "id": "W2Gvl3eF0ox-",
        "outputId": "f5ebab00-68d0-4975-9ec8-1f24db778996"
      },
      "execution_count": 29,
      "outputs": [
        {
          "output_type": "execute_result",
          "data": {
            "text/plain": [
              "False"
            ]
          },
          "metadata": {},
          "execution_count": 29
        }
      ]
    },
    {
      "cell_type": "code",
      "source": [
        "'''\n",
        "Testcase 7\n",
        "Input: s = \"abcde\", goal = \"eabcd\"\n",
        "Output: True\n",
        "'''\n",
        "rotateString(\"abcde\", \"eabcd\")"
      ],
      "metadata": {
        "colab": {
          "base_uri": "https://localhost:8080/"
        },
        "id": "UncKPhbJ1HOa",
        "outputId": "0402d092-4bc7-4398-f946-8e992860a003"
      },
      "execution_count": 30,
      "outputs": [
        {
          "output_type": "execute_result",
          "data": {
            "text/plain": [
              "True"
            ]
          },
          "metadata": {},
          "execution_count": 30
        }
      ]
    },
    {
      "cell_type": "code",
      "source": [
        "'''\n",
        "Testcase 8\n",
        "Input: s = \"bbcde\", goal = \"ebbdc\"\n",
        "Output: False\n",
        "'''\n",
        "rotateString(\"bbcde\", \"ebbdc\")"
      ],
      "metadata": {
        "colab": {
          "base_uri": "https://localhost:8080/"
        },
        "id": "xiIW3Yd81PiQ",
        "outputId": "f0d027c2-c874-42eb-c909-de318d60a9fa"
      },
      "execution_count": 31,
      "outputs": [
        {
          "output_type": "execute_result",
          "data": {
            "text/plain": [
              "False"
            ]
          },
          "metadata": {},
          "execution_count": 31
        }
      ]
    }
  ]
}
